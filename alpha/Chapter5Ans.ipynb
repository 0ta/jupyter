{
 "cells": [
  {
   "cell_type": "code",
   "execution_count": 3,
   "metadata": {},
   "outputs": [
    {
     "data": {
      "text/plain": [
       "'%.3f'"
      ]
     },
     "execution_count": 3,
     "metadata": {},
     "output_type": "execute_result"
    }
   ],
   "source": [
    "import numpy as np\n",
    "import numpy.random as random\n",
    "import scipy as sp\n",
    "from pandas import Series,DataFrame\n",
    "import pandas as pd\n",
    "\n",
    "# 可視化モジュール\n",
    "import matplotlib.pyplot as plt\n",
    "import matplotlib as mpl\n",
    "import seaborn as sns\n",
    "%matplotlib inline\n",
    "\n",
    "# 小数第３まで表示\n",
    "%precision 3"
   ]
  },
  {
   "cell_type": "markdown",
   "metadata": {},
   "source": [
    "5.4.1 総合問題1"
   ]
  },
  {
   "cell_type": "code",
   "execution_count": 5,
   "metadata": {},
   "outputs": [
    {
     "name": "stdout",
     "output_type": "stream",
     "text": [
      "[-0.051  2.157  2.01   0.098]\n"
     ]
    }
   ],
   "source": [
    "a = np.array([[5, 1, 0, 1],\n",
    "              [1, 9, -5, 7],\n",
    "              [0, -5, 8, -3],\n",
    "              [1, 7, -3, 10]])\n",
    "b = np.array([2, 10, 5, 10])\n",
    "\n",
    "L = sp.linalg.cholesky(a)\n",
    "\n",
    "t = sp.linalg.solve(L.T.conj(), b)\n",
    "x = sp.linalg.solve(L, t)\n",
    "\n",
    "print(x)"
   ]
  },
  {
   "cell_type": "code",
   "execution_count": 7,
   "metadata": {},
   "outputs": [
    {
     "data": {
      "text/plain": [
       "array([ 2., 10.,  5., 10.])"
      ]
     },
     "execution_count": 7,
     "metadata": {},
     "output_type": "execute_result"
    }
   ],
   "source": [
    "np.dot(a, x)"
   ]
  },
  {
   "cell_type": "code",
   "execution_count": 16,
   "metadata": {},
   "outputs": [
    {
     "data": {
      "text/plain": [
       "array([[ 2.236,  0.447,  0.   ,  0.447],\n",
       "       [ 0.   ,  2.966, -1.685,  2.292],\n",
       "       [ 0.   ,  0.   ,  2.271,  0.38 ],\n",
       "       [ 0.   ,  0.   ,  0.   ,  2.098]])"
      ]
     },
     "execution_count": 16,
     "metadata": {},
     "output_type": "execute_result"
    }
   ],
   "source": [
    "L"
   ]
  },
  {
   "cell_type": "code",
   "execution_count": 18,
   "metadata": {},
   "outputs": [
    {
     "data": {
      "text/plain": [
       "array([[ 2.236,  0.   ,  0.   ,  0.   ],\n",
       "       [ 0.447,  2.966,  0.   ,  0.   ],\n",
       "       [ 0.   , -1.685,  2.271,  0.   ],\n",
       "       [ 0.447,  2.292,  0.38 ,  2.098]])"
      ]
     },
     "execution_count": 18,
     "metadata": {},
     "output_type": "execute_result"
    }
   ],
   "source": [
    "L.T.conj()"
   ]
  },
  {
   "cell_type": "code",
   "execution_count": 28,
   "metadata": {},
   "outputs": [
    {
     "data": {
      "text/plain": [
       "array([[ 5.4  ,  2.352,  0.17 ,  0.938],\n",
       "       [ 2.352, 16.895, -2.957,  4.809],\n",
       "       [ 0.17 , -2.957,  5.304,  0.798],\n",
       "       [ 0.938,  4.809,  0.798,  4.401]])"
      ]
     },
     "execution_count": 28,
     "metadata": {},
     "output_type": "execute_result"
    }
   ],
   "source": [
    "np.dot(L, L.T.conj())"
   ]
  },
  {
   "cell_type": "markdown",
   "metadata": {},
   "source": [
    "5.4.1 総合問題2"
   ]
  },
  {
   "cell_type": "code",
   "execution_count": 32,
   "metadata": {},
   "outputs": [],
   "source": [
    "from scipy import integrate\n",
    "import math"
   ]
  },
  {
   "cell_type": "code",
   "execution_count": 58,
   "metadata": {},
   "outputs": [
    {
     "name": "stdout",
     "output_type": "stream",
     "text": [
      "(0.285398163397451, 1.5065093369366904e-08)\n"
     ]
    }
   ],
   "source": [
    "print(integrate.dblquad(lambda x, y: 1/((np.sqrt(x+y)*(1+x+y)**2)), 0, 1, lambda x: 0, lambda x: 1-x))"
   ]
  },
  {
   "cell_type": "markdown",
   "metadata": {},
   "source": [
    "5.4.1 総合問題3"
   ]
  },
  {
   "cell_type": "code",
   "execution_count": 94,
   "metadata": {},
   "outputs": [],
   "source": [
    "from scipy.optimize import minimize"
   ]
  },
  {
   "cell_type": "code",
   "execution_count": 120,
   "metadata": {},
   "outputs": [],
   "source": [
    "def f(x):\n",
    "    return sp.square(x) + 1"
   ]
  },
  {
   "cell_type": "code",
   "execution_count": 121,
   "metadata": {},
   "outputs": [
    {
     "data": {
      "image/png": "[encoded data removed]",
      "text/plain": [
       "<Figure size 432x288 with 1 Axes>"
      ]
     },
     "metadata": {},
     "output_type": "display_data"
    }
   ],
   "source": [
    "x = np.linspace(-4,4)\n",
    "plt.plot(x,f(x))\n",
    "plt.plot(x,np.zeros(len(x)))\n",
    "plt.grid(True)"
   ]
  },
  {
   "cell_type": "code",
   "execution_count": 123,
   "metadata": {},
   "outputs": [],
   "source": [
    "def objective(x):\n",
    "    return sp.square(x[0]) + 1"
   ]
  },
  {
   "cell_type": "code",
   "execution_count": 112,
   "metadata": {},
   "outputs": [],
   "source": [
    "def constraint(x):\n",
    "    return x[0] + 1"
   ]
  },
  {
   "cell_type": "code",
   "execution_count": 149,
   "metadata": {},
   "outputs": [
    {
     "name": "stdout",
     "output_type": "stream",
     "text": [
      "26\n",
      "-4\n"
     ]
    }
   ],
   "source": [
    "x0 = [-5]\n",
    "print(objective(x0))\n",
    "print(constraint(x0))"
   ]
  },
  {
   "cell_type": "code",
   "execution_count": 150,
   "metadata": {},
   "outputs": [],
   "source": [
    "b = (-5, 20.0)\n",
    "bnds = [b]\n",
    "con = {'type':'ineq','fun':constraint}\n",
    "cons = [con]"
   ]
  },
  {
   "cell_type": "code",
   "execution_count": 151,
   "metadata": {},
   "outputs": [
    {
     "name": "stdout",
     "output_type": "stream",
     "text": [
      "     fun: 1.0\n",
      "     jac: array([1.49e-08])\n",
      " message: 'Optimization terminated successfully.'\n",
      "    nfev: 7\n",
      "     nit: 2\n",
      "    njev: 2\n",
      "  status: 0\n",
      " success: True\n",
      "       x: array([0.])\n"
     ]
    }
   ],
   "source": [
    "sol = minimize(objective,x0,method='SLSQP',bounds=bnds,constraints=cons)\n",
    "print(sol)"
   ]
  },
  {
   "cell_type": "code",
   "execution_count": null,
   "metadata": {},
   "outputs": [],
   "source": []
  }
 ],
 "metadata": {
  "kernelspec": {
   "display_name": "Python 3",
   "language": "python",
   "name": "python3"
  },
  "language_info": {
   "codemirror_mode": {
    "name": "ipython",
    "version": 3
   },
   "file_extension": ".py",
   "mimetype": "text/x-python",
   "name": "python",
   "nbconvert_exporter": "python",
   "pygments_lexer": "ipython3",
   "version": "3.6.5"
  }
 },
 "nbformat": 4,
 "nbformat_minor": 2
}
