{
 "cells": [
  {
   "cell_type": "code",
   "execution_count": 116,
   "metadata": {},
   "outputs": [
    {
     "name": "stdout",
     "output_type": "stream",
     "text": [
      "count    382.000000\n",
      "mean       5.319372\n",
      "std        7.625251\n",
      "min        0.000000\n",
      "25%        0.000000\n",
      "50%        3.000000\n",
      "75%        8.000000\n",
      "max       75.000000\n",
      "Name: absences_math, dtype: float64\n",
      "count    382.000000\n",
      "mean       3.672775\n",
      "std        4.905965\n",
      "min        0.000000\n",
      "25%        0.000000\n",
      "50%        2.000000\n",
      "75%        6.000000\n",
      "max       32.000000\n",
      "Name: absences_por, dtype: float64\n",
      "p値 =  2.3441656888384195e-06\n",
      "0.3978021811685624\n"
     ]
    },
    {
     "data": {
      "image/png": "[encoded data removed]",
      "text/plain": [
       "<Figure size 432x288 with 1 Axes>"
      ]
     },
     "metadata": {},
     "output_type": "display_data"
    }
   ],
   "source": [
    "import numpy as np\n",
    "import numpy.random as random\n",
    "import scipy as sp\n",
    "import pandas as pd\n",
    "from pandas import Series, DataFrame\n",
    "\n",
    "import matplotlib.pyplot as plt\n",
    "import matplotlib as mpl\n",
    "import seaborn as sns\n",
    "import math as math\n",
    "%matplotlib inline\n",
    "\n",
    "%precision 3\n",
    "\n",
    "student_data_math = pd.read_csv(\"./data/student/student-mat.csv\", \";\")\n",
    "student_data_por = pd.read_csv(\"./data/student/student-por.csv\", \";\")\n",
    "student_data_merge= pd.merge(student_data_math,student_data_por,\n",
    "                               how='inner',\n",
    "                               on=[\"school\",\"sex\",\"age\",\"address\",\"famsize\",\"Pstatus\",\"Medu\",\"Fedu\",\"Mjob\",\"Fjob\",\"reason\",\"nursery\",\"internet\"],\n",
    "                               suffixes=['_math', '_por'])\n",
    "\n",
    "print(student_data_merge.absences_math.describe())\n",
    "print(student_data_merge.absences_por.describe())\n",
    "\n",
    "plt.hist(student_data_merge.absences_math)\n",
    "plt.hist(student_data_merge.absences_por)\n",
    "plt.grid(True)\n",
    "\n",
    "from scipy import stats\n",
    "t, p = stats.ttest_rel(student_data_merge.absences_math, student_data_merge.absences_por)\n",
    "print( \"p値 = \", p)\n",
    "print(7.6/math.sqrt(365))\n",
    "print(7.6/math.sqrt(365))\n"
   ]
  },
  {
   "cell_type": "code",
   "execution_count": 73,
   "metadata": {},
   "outputs": [
    {
     "name": "stdout",
     "output_type": "stream",
     "text": [
      "<class 'pandas.core.frame.DataFrame'>\n",
      "RangeIndex: 395 entries, 0 to 394\n",
      "Data columns (total 33 columns):\n",
      "school        395 non-null object\n",
      "sex           395 non-null object\n",
      "age           395 non-null int64\n",
      "address       395 non-null object\n",
      "famsize       395 non-null object\n",
      "Pstatus       395 non-null object\n",
      "Medu          395 non-null int64\n",
      "Fedu          395 non-null int64\n",
      "Mjob          395 non-null object\n",
      "Fjob          395 non-null object\n",
      "reason        395 non-null object\n",
      "guardian      395 non-null object\n",
      "traveltime    395 non-null int64\n",
      "studytime     395 non-null int64\n",
      "failures      395 non-null int64\n",
      "schoolsup     395 non-null object\n",
      "famsup        395 non-null object\n",
      "paid          395 non-null object\n",
      "activities    395 non-null object\n",
      "nursery       395 non-null object\n",
      "higher        395 non-null object\n",
      "internet      395 non-null object\n",
      "romantic      395 non-null object\n",
      "famrel        395 non-null int64\n",
      "freetime      395 non-null int64\n",
      "goout         395 non-null int64\n",
      "Dalc          395 non-null int64\n",
      "Walc          395 non-null int64\n",
      "health        395 non-null int64\n",
      "absences      395 non-null int64\n",
      "G1            395 non-null int64\n",
      "G2            395 non-null int64\n",
      "G3            395 non-null int64\n",
      "dtypes: int64(16), object(17)\n",
      "memory usage: 101.9+ KB\n",
      "None\n",
      "<class 'pandas.core.frame.DataFrame'>\n",
      "RangeIndex: 649 entries, 0 to 648\n",
      "Data columns (total 33 columns):\n",
      "school        649 non-null object\n",
      "sex           649 non-null object\n",
      "age           649 non-null int64\n",
      "address       649 non-null object\n",
      "famsize       649 non-null object\n",
      "Pstatus       649 non-null object\n",
      "Medu          649 non-null int64\n",
      "Fedu          649 non-null int64\n",
      "Mjob          649 non-null object\n",
      "Fjob          649 non-null object\n",
      "reason        649 non-null object\n",
      "guardian      649 non-null object\n",
      "traveltime    649 non-null int64\n",
      "studytime     649 non-null int64\n",
      "failures      649 non-null int64\n",
      "schoolsup     649 non-null object\n",
      "famsup        649 non-null object\n",
      "paid          649 non-null object\n",
      "activities    649 non-null object\n",
      "nursery       649 non-null object\n",
      "higher        649 non-null object\n",
      "internet      649 non-null object\n",
      "romantic      649 non-null object\n",
      "famrel        649 non-null int64\n",
      "freetime      649 non-null int64\n",
      "goout         649 non-null int64\n",
      "Dalc          649 non-null int64\n",
      "Walc          649 non-null int64\n",
      "health        649 non-null int64\n",
      "absences      649 non-null int64\n",
      "G1            649 non-null int64\n",
      "G2            649 non-null int64\n",
      "G3            649 non-null int64\n",
      "dtypes: int64(16), object(17)\n",
      "memory usage: 167.4+ KB\n",
      "None\n",
      "<class 'pandas.core.frame.DataFrame'>\n",
      "Int64Index: 382 entries, 0 to 381\n",
      "Data columns (total 53 columns):\n",
      "school             382 non-null object\n",
      "sex                382 non-null object\n",
      "age                382 non-null int64\n",
      "address            382 non-null object\n",
      "famsize            382 non-null object\n",
      "Pstatus            382 non-null object\n",
      "Medu               382 non-null int64\n",
      "Fedu               382 non-null int64\n",
      "Mjob               382 non-null object\n",
      "Fjob               382 non-null object\n",
      "reason             382 non-null object\n",
      "guardian_math      382 non-null object\n",
      "traveltime_math    382 non-null int64\n",
      "studytime_math     382 non-null int64\n",
      "failures_math      382 non-null int64\n",
      "schoolsup_math     382 non-null object\n",
      "famsup_math        382 non-null object\n",
      "paid_math          382 non-null object\n",
      "activities_math    382 non-null object\n",
      "nursery            382 non-null object\n",
      "higher_math        382 non-null object\n",
      "internet           382 non-null object\n",
      "romantic_math      382 non-null object\n",
      "famrel_math        382 non-null int64\n",
      "freetime_math      382 non-null int64\n",
      "goout_math         382 non-null int64\n",
      "Dalc_math          382 non-null int64\n",
      "Walc_math          382 non-null int64\n",
      "health_math        382 non-null int64\n",
      "absences_math      382 non-null int64\n",
      "G1_math            382 non-null int64\n",
      "G2_math            382 non-null int64\n",
      "G3_math            382 non-null int64\n",
      "guardian_por       382 non-null object\n",
      "traveltime_por     382 non-null int64\n",
      "studytime_por      382 non-null int64\n",
      "failures_por       382 non-null int64\n",
      "schoolsup_por      382 non-null object\n",
      "famsup_por         382 non-null object\n",
      "paid_por           382 non-null object\n",
      "activities_por     382 non-null object\n",
      "higher_por         382 non-null object\n",
      "romantic_por       382 non-null object\n",
      "famrel_por         382 non-null int64\n",
      "freetime_por       382 non-null int64\n",
      "goout_por          382 non-null int64\n",
      "Dalc_por           382 non-null int64\n",
      "Walc_por           382 non-null int64\n",
      "health_por         382 non-null int64\n",
      "absences_por       382 non-null int64\n",
      "G1_por             382 non-null int64\n",
      "G2_por             382 non-null int64\n",
      "G3_por             382 non-null int64\n",
      "dtypes: int64(29), object(24)\n",
      "memory usage: 161.2+ KB\n",
      "None\n",
      "64.04954057700957\n",
      "21.536642317715764\n",
      "2.973979863347744\n",
      "394\n",
      "648\n"
     ]
    },
    {
     "data": {
      "text/plain": [
       "0.9999999999999999"
      ]
     },
     "execution_count": 73,
     "metadata": {},
     "output_type": "execute_result"
    }
   ],
   "source": [
    "import scipy.stats as stats\n",
    "\n",
    "x = student_data_math.absences.values\n",
    "y = student_data_por.absences.values\n",
    "\n",
    "print(student_data_math.info())\n",
    "print(student_data_por.info())\n",
    "print(student_data_merge.info())\n",
    "\n",
    "\n",
    "f = np.var(x, ddof=1) / np.var(y, ddof=1)\n",
    "dfx = len(x) - 1\n",
    "dfy = len(y) - 1\n",
    "\n",
    "print(np.var(x, ddof=1))\n",
    "print(np.var(y, ddof=1))\n",
    "print(f)\n",
    "print(dfx)\n",
    "print(dfy)\n",
    "\n",
    "stats.f.cdf(f, dfx, dfy)\n"
   ]
  },
  {
   "cell_type": "code",
   "execution_count": 41,
   "metadata": {},
   "outputs": [
    {
     "name": "stdout",
     "output_type": "stream",
     "text": [
      "1.0\n",
      "10000\n",
      "10000\n"
     ]
    },
    {
     "data": {
      "text/plain": [
       "0.49999999999688577"
      ]
     },
     "execution_count": 41,
     "metadata": {},
     "output_type": "execute_result"
    }
   ],
   "source": [
    "import scipy.stats as stats\n",
    "\n",
    "x = np.array([1,2,3,4,5,6,7,8,9])\n",
    "y = np.array([1,2,3,4,5,6,7,8,9])\n",
    "\n",
    "f = np.var(x, ddof=1) / np.var(y, ddof=1)\n",
    "dfx = len(x) - 1\n",
    "dfy = len(y) - 1\n",
    "\n",
    "print(f)\n",
    "print(dfx)\n",
    "print(dfy)\n",
    "\n",
    "stats.f.cdf(f, dfx, dfy)"
   ]
  },
  {
   "cell_type": "code",
   "execution_count": 66,
   "metadata": {},
   "outputs": [
    {
     "name": "stdout",
     "output_type": "stream",
     "text": [
      "2452.7027027027025\n",
      "2211.2112112112122\n",
      "1.1092123132639198\n",
      "998\n",
      "998\n"
     ]
    },
    {
     "data": {
      "text/plain": [
       "0.9491258947855508"
      ]
     },
     "execution_count": 66,
     "metadata": {},
     "output_type": "execute_result"
    }
   ],
   "source": [
    "d = np.array([], dtype=np.int32)\n",
    "t = np.array([], dtype=np.int32)\n",
    "for x in range(1, 1000):\n",
    "    if x%2 == 0:\n",
    "        d = np.append(d, 1)\n",
    "        t = np.append(t, 1)\n",
    "    else:\n",
    "        d = np.append(d, 100)\n",
    "        t = np.append(t, 95)\n",
    "print(np.var(d, ddof=1))\n",
    "print(np.var(t, ddof=1))\n",
    "\n",
    "f = np.var(d, ddof=1) / np.var(t, ddof=1)\n",
    "dfx = len(d) - 1\n",
    "tfy = len(t) - 1\n",
    "\n",
    "print(f)\n",
    "print(dfx)\n",
    "print(tfy)\n",
    "\n",
    "stats.f.cdf(f, dfx, tfy)\n"
   ]
  }
 ],
 "metadata": {
  "kernelspec": {
   "display_name": "Python 3",
   "language": "python",
   "name": "python3"
  },
  "language_info": {
   "codemirror_mode": {
    "name": "ipython",
    "version": 3
   },
   "file_extension": ".py",
   "mimetype": "text/x-python",
   "name": "python",
   "nbconvert_exporter": "python",
   "pygments_lexer": "ipython3",
   "version": "3.6.5"
  }
 },
 "nbformat": 4,
 "nbformat_minor": 2
}
