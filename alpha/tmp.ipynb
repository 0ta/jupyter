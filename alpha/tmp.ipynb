{
 "cells": [
  {
   "cell_type": "code",
   "execution_count": 2,
   "metadata": {},
   "outputs": [
    {
     "name": "stdout",
     "output_type": "stream",
     "text": [
      "/Users/i035187/.pyenv/versions/anaconda3-4.4.0/lib/python3.6/site-packages/tensorflow/__init__.py\n",
      "test\n",
      "test2\n",
      "3\n",
      "<class 'list'>\n",
      "<class 'numpy.ndarray'>\n",
      "here\n",
      "30\n",
      "<class 'numpy.ndarray'>\n",
      "[[1 3]\n",
      " [2 4]]\n",
      "(2, 2)\n",
      "(2, 2)\n",
      "<class 'numpy.ndarray'>\n",
      "(2, 3)\n",
      "[1 2 3 4]\n"
     ]
    },
    {
     "data": {
      "text/plain": [
       "\u001b[0;31mDocstring:\u001b[0m\n",
       "a.dot(b, out=None)\n",
       "\n",
       "Dot product of two arrays.\n",
       "\n",
       "Refer to `numpy.dot` for full documentation.\n",
       "\n",
       "See Also\n",
       "--------\n",
       "numpy.dot : equivalent function\n",
       "\n",
       "Examples\n",
       "--------\n",
       ">>> a = np.eye(2)\n",
       ">>> b = np.ones((2, 2)) * 2\n",
       ">>> a.dot(b)\n",
       "array([[ 2.,  2.],\n",
       "       [ 2.,  2.]])\n",
       "\n",
       "This array method can be conveniently chained:\n",
       "\n",
       ">>> a.dot(b).dot(b)\n",
       "array([[ 8.,  8.],\n",
       "       [ 8.,  8.]])\n",
       "\u001b[0;31mType:\u001b[0m      builtin_function_or_method\n"
      ]
     },
     "metadata": {},
     "output_type": "display_data"
    }
   ],
   "source": [
    "import numpy\n",
    "import tensorflow as tf\n",
    "import numpy as np\n",
    "#print(numpy.__file__)\n",
    "print((tf.__file__))\n",
    "a = 'test'\n",
    "print(a)\n",
    "a = 'test2'\n",
    "print(a)\n",
    "x = tf.constant(1, name=\"x\")\n",
    "y = tf.constant(2, name=\"y\")\n",
    "add_op = tf.add(x, y)\n",
    "with tf.Session() as sess:\n",
    "    print(sess.run(add_op))\n",
    "a = [[1, 2], [3, 4]]\n",
    "print(type(a))\n",
    "npa = np.array([[1, 2], [3, 4]])\n",
    "print(type(npa))\n",
    "npb = np.array([1, 2, 3, 4])\n",
    "npbb = np.array([1, 2, 3, 4])\n",
    "print('here')\n",
    "print(np.dot(npb, npbb))\n",
    "print(type(npb))\n",
    "print(npa.T)\n",
    "print(npa.shape)\n",
    "print(npa.T.shape)\n",
    "arr = np.asarray([[1,2,3], [4,5,6]])\n",
    "print(type(arr))\n",
    "print(arr.shape)\n",
    "print(npb.T)\n",
    "?npb.dot"
   ]
  },
  {
   "cell_type": "code",
   "execution_count": null,
   "metadata": {},
   "outputs": [],
   "source": []
  }
 ],
 "metadata": {
  "kernelspec": {
   "display_name": "Python 3",
   "language": "python",
   "name": "python3"
  },
  "language_info": {
   "codemirror_mode": {
    "name": "ipython",
    "version": 3
   },
   "file_extension": ".py",
   "mimetype": "text/x-python",
   "name": "python",
   "nbconvert_exporter": "python",
   "pygments_lexer": "ipython3",
   "version": "3.6.5"
  }
 },
 "nbformat": 4,
 "nbformat_minor": 2
}
