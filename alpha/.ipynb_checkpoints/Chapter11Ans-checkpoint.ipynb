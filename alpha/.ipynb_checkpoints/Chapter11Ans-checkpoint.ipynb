{
 "cells": [
  {
   "cell_type": "code",
   "execution_count": 1,
   "metadata": {},
   "outputs": [
    {
     "data": {
      "text/plain": [
       "'%.3f'"
      ]
     },
     "execution_count": 1,
     "metadata": {},
     "output_type": "execute_result"
    }
   ],
   "source": [
    "# 途中で使用するため、あらかじめ読み込んでおいてください。\n",
    "# データ加工・処理・分析モジュール\n",
    "import numpy as np\n",
    "import numpy.random as random\n",
    "import scipy as sp\n",
    "from pandas import Series, DataFrame\n",
    "import pandas as pd\n",
    "\n",
    "# 可視化モジュール\n",
    "import matplotlib.pyplot as plt\n",
    "import matplotlib as mpl\n",
    "import seaborn as sns\n",
    "%matplotlib inline\n",
    "\n",
    "# 機械学習モジュール\n",
    "import sklearn\n",
    "\n",
    "# 小数第３まで表示\n",
    "%precision 3"
   ]
  },
  {
   "cell_type": "markdown",
   "metadata": {},
   "source": [
    "決定木"
   ]
  },
  {
   "cell_type": "code",
   "execution_count": 2,
   "metadata": {},
   "outputs": [],
   "source": [
    "# データの分類\n",
    "from sklearn.model_selection import train_test_split\n",
    "\n",
    "# 分析対象データ\n",
    "from sklearn.datasets import load_iris\n",
    "\n",
    "# data\n",
    "iris = load_iris()"
   ]
  },
  {
   "cell_type": "code",
   "execution_count": 19,
   "metadata": {},
   "outputs": [],
   "source": [
    "X_train, X_test, y_train, y_test = train_test_split(iris['data'], iris['target'], random_state=0)"
   ]
  },
  {
   "cell_type": "code",
   "execution_count": 20,
   "metadata": {},
   "outputs": [
    {
     "name": "stdout",
     "output_type": "stream",
     "text": [
      "600\n",
      "150\n",
      "448\n",
      "152\n",
      "112\n",
      "38\n"
     ]
    }
   ],
   "source": [
    "print(iris.data.size)\n",
    "print(iris.target.size)\n",
    "print(X_train.size)\n",
    "print(X_test.size)\n",
    "print(y_train.size)\n",
    "print(y_test.size)"
   ]
  },
  {
   "cell_type": "code",
   "execution_count": 27,
   "metadata": {},
   "outputs": [
    {
     "name": "stdout",
     "output_type": "stream",
     "text": [
      "train: DecisionTreeClassifier 1.0\n",
      "test: DecisionTreeClassifier 0.9736842105263158\n"
     ]
    }
   ],
   "source": [
    "from sklearn.tree import DecisionTreeClassifier\n",
    "tree_model = DecisionTreeClassifier(criterion='entropy',max_depth=5, random_state=0)\n",
    "tree_model.fit(X_train,y_train)\n",
    "\n",
    "print(\"train:\",tree_model.__class__.__name__ ,tree_model.score(X_train,y_train))\n",
    "print(\"test:\",tree_model.__class__.__name__ , tree_model.score(X_test,y_test))"
   ]
  },
  {
   "cell_type": "markdown",
   "metadata": {},
   "source": [
    "ロジスティック回帰"
   ]
  },
  {
   "cell_type": "code",
   "execution_count": 28,
   "metadata": {},
   "outputs": [
    {
     "name": "stdout",
     "output_type": "stream",
     "text": [
      "train: LogisticRegression 0.9464285714285714\n",
      "test: LogisticRegression 0.868421052631579\n"
     ]
    }
   ],
   "source": [
    "from sklearn.linear_model import LogisticRegression\n",
    "logistic_model = LogisticRegression()\n",
    "logistic_model.fit(X_train,y_train)\n",
    "\n",
    "print(\"train:\",logistic_model.__class__.__name__ ,logistic_model.score(X_train,y_train))\n",
    "print(\"test:\",logistic_model.__class__.__name__ , logistic_model.score(X_test,y_test))"
   ]
  },
  {
   "cell_type": "markdown",
   "metadata": {},
   "source": [
    "SVM"
   ]
  },
  {
   "cell_type": "code",
   "execution_count": 29,
   "metadata": {},
   "outputs": [
    {
     "name": "stdout",
     "output_type": "stream",
     "text": [
      "train: LinearSVC 0.9821428571428571\n",
      "test: LinearSVC 0.9210526315789473\n"
     ]
    }
   ],
   "source": [
    "from sklearn.svm import LinearSVC\n",
    "svm_model = LinearSVC()\n",
    "svm_model.fit(X_train,y_train)\n",
    "\n",
    "print(\"train:\",svm_model.__class__.__name__ ,svm_model.score(X_train,y_train))\n",
    "print(\"test:\",svm_model.__class__.__name__ , svm_model.score(X_test,y_test))"
   ]
  },
  {
   "cell_type": "markdown",
   "metadata": {},
   "source": [
    "k-NN"
   ]
  },
  {
   "cell_type": "code",
   "execution_count": 43,
   "metadata": {},
   "outputs": [
    {
     "name": "stdout",
     "output_type": "stream",
     "text": [
      "train: KNeighborsClassifier 0.9732142857142857\n",
      "test: KNeighborsClassifier 0.9736842105263158\n"
     ]
    }
   ],
   "source": [
    "from sklearn.neighbors import  KNeighborsClassifier\n",
    "#4がとりあえず高そう\n",
    "kNN_model = KNeighborsClassifier(n_neighbors=4)\n",
    "kNN_model.fit(X_train,y_train)\n",
    "\n",
    "print(\"train:\",kNN_model.__class__.__name__ ,kNN_model.score(X_train,y_train))\n",
    "print(\"test:\",kNN_model.__class__.__name__ , kNN_model.score(X_test,y_test))"
   ]
  },
  {
   "cell_type": "code",
   "execution_count": null,
   "metadata": {},
   "outputs": [],
   "source": []
  }
 ],
 "metadata": {
  "kernelspec": {
   "display_name": "Python 3",
   "language": "python",
   "name": "python3"
  },
  "language_info": {
   "codemirror_mode": {
    "name": "ipython",
    "version": 3
   },
   "file_extension": ".py",
   "mimetype": "text/x-python",
   "name": "python",
   "nbconvert_exporter": "python",
   "pygments_lexer": "ipython3",
   "version": "3.6.5"
  }
 },
 "nbformat": 4,
 "nbformat_minor": 2
}
