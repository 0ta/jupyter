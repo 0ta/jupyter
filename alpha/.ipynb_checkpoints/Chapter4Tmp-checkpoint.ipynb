{
 "cells": [
  {
   "cell_type": "code",
   "execution_count": 116,
   "metadata": {},
   "outputs": [
    {
     "data": {
      "text/plain": [
       "'%.3f'"
      ]
     },
     "execution_count": 116,
     "metadata": {},
     "output_type": "execute_result"
    }
   ],
   "source": [
    "# 以下のモジュールを使うので、あらかじめ読み込んでおいてください\n",
    "import numpy as np\n",
    "import numpy.random as random\n",
    "import scipy as sp\n",
    "import pandas as pd\n",
    "import math\n",
    "from pandas import Series, DataFrame\n",
    "\n",
    "# 可視化モジュール\n",
    "import matplotlib.pyplot as plt\n",
    "import matplotlib as mpl\n",
    "import seaborn as sns\n",
    "%matplotlib inline\n",
    "\n",
    "# 小数第３まで表示\n",
    "%precision 3"
   ]
  },
  {
   "cell_type": "code",
   "execution_count": 9,
   "metadata": {},
   "outputs": [
    {
     "name": "stdout",
     "output_type": "stream",
     "text": [
      "<class 'range'>\n",
      "<class 'list'>\n",
      "Disp:1\n",
      "Disp:2\n",
      "Disp:3\n"
     ]
    }
   ],
   "source": [
    "print(type(range(1, 7)))\n",
    "print(type([1, 2, 3, 4, 5]))\n",
    "for i in [1, 2, 3]:\n",
    "    print(\"Disp:\" + str(i))"
   ]
  },
  {
   "cell_type": "code",
   "execution_count": 52,
   "metadata": {},
   "outputs": [
    {
     "name": "stdout",
     "output_type": "stream",
     "text": [
      "171\n",
      "166\n",
      "157\n"
     ]
    }
   ],
   "source": [
    "dice_data = np.array([1, 2, 3, 4, 5, 6])\n",
    "\n",
    "# サイコロを1000回振ってみる\n",
    "calc_steps = 1000\n",
    "\n",
    "# seedの固定\n",
    "random.seed(0)\n",
    "\n",
    "# 1〜6のデータの中から、1000回の抽出を実施\n",
    "count_all_dice = random.choice(dice_data, calc_steps)\n",
    "\n",
    "#print(count_all_dice == 1)\n",
    "count1 = count_all_dice == 2\n",
    "#print(count1)\n",
    "n = sum(x == True for x in count1)\n",
    "print(count_all_dice[count_all_dice == 1].size)\n",
    "print(1000 // 6)\n",
    "print(n)"
   ]
  },
  {
   "cell_type": "code",
   "execution_count": 91,
   "metadata": {},
   "outputs": [
    {
     "name": "stdout",
     "output_type": "stream",
     "text": [
      "26\n",
      "5\n",
      "<class 'numpy.ndarray'>\n"
     ]
    },
    {
     "data": {
      "image/png": "[encoded data removed]",
      "text/plain": [
       "<Figure size 432x288 with 1 Axes>"
      ]
     },
     "metadata": {},
     "output_type": "display_data"
    }
   ],
   "source": [
    "random.seed(0)\n",
    "x = random.binomial(30, 0.5, 10000)\n",
    "plt.hist(x)\n",
    "plt.grid(True)\n",
    "print(x.max())\n",
    "print(x.min())\n",
    "print(type(x))"
   ]
  },
  {
   "cell_type": "code",
   "execution_count": 97,
   "metadata": {},
   "outputs": [
    {
     "data": {
      "image/png": "[encoded data removed]",
      "text/plain": [
       "<Figure size 432x288 with 1 Axes>"
      ]
     },
     "metadata": {},
     "output_type": "display_data"
    }
   ],
   "source": [
    "x = random.poisson(7, 1000)\n",
    "plt.hist(x)\n",
    "plt.grid(True)"
   ]
  },
  {
   "cell_type": "code",
   "execution_count": 177,
   "metadata": {},
   "outputs": [
    {
     "data": {
      "image/png": "[encoded data removed]",
      "text/plain": [
       "<Figure size 432x288 with 1 Axes>"
      ]
     },
     "metadata": {},
     "output_type": "display_data"
    }
   ],
   "source": [
    "#正規分布\n",
    "x = np.random.normal(0, 1, 10000)\n",
    "plt.hist(x)\n",
    "plt.grid(True)"
   ]
  },
  {
   "cell_type": "code",
   "execution_count": null,
   "metadata": {},
   "outputs": [],
   "source": [
    "#一様分布\n",
    "binlist = np.array([], dtype = 'float128')\n",
    "binlist = random.rand(sumval, 10000)\n",
    "plt.hist(errlist)\n",
    "plt.grid(True)"
   ]
  },
  {
   "cell_type": "code",
   "execution_count": null,
   "metadata": {},
   "outputs": [],
   "source": [
    "#一様分布->正規分布\n",
    "random.seed(0)\n",
    "sumval = 10000\n",
    "\n",
    "errlist = np.array([], dtype = 'float128')\n",
    "for _ in range(10000):\n",
    "    errlist = random.rand(sumval)\n",
    "    #print(count_all_bin.mean())\n",
    "    #print(count_all_bin.var())    \n",
    "    errval = ((count_all_bin.mean() * sumval) -  sumval/2) / math.sqrt(sumval/12)\n",
    "    #print(errval)\n",
    "    errlist = np.append(errlist, errval)\n",
    "\n",
    "plt.hist(errlist)\n",
    "plt.grid(True)"
   ]
  },
  {
   "cell_type": "code",
   "execution_count": null,
   "metadata": {},
   "outputs": [],
   "source": [
    "testarray = np.array([], dtype = 'float128')\n",
    "print(type(testarray))\n",
    "np.append(testarray, 1)\n",
    "testarray.size\n",
    "a = np.arange(12)\n",
    "print(type(a))\n",
    "print(\"test\")"
   ]
  }
 ],
 "metadata": {
  "kernelspec": {
   "display_name": "Python 3",
   "language": "python",
   "name": "python3"
  },
  "language_info": {
   "codemirror_mode": {
    "name": "ipython",
    "version": 3
   },
   "file_extension": ".py",
   "mimetype": "text/x-python",
   "name": "python",
   "nbconvert_exporter": "python",
   "pygments_lexer": "ipython3",
   "version": "3.6.5"
  }
 },
 "nbformat": 4,
 "nbformat_minor": 2
}
