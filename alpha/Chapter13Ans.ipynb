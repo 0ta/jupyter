{
 "cells": [
  {
   "cell_type": "code",
   "execution_count": 1,
   "metadata": {},
   "outputs": [
    {
     "data": {
      "text/plain": [
       "'%.3f'"
      ]
     },
     "execution_count": 1,
     "metadata": {},
     "output_type": "execute_result"
    }
   ],
   "source": [
    "# 途中で使用するため、あらかじめ読み込んでおいてください。\n",
    "# データ加工・処理・分析モジュール\n",
    "import numpy as np\n",
    "import numpy.random as random\n",
    "import scipy as sp\n",
    "from pandas import Series, DataFrame\n",
    "import pandas as pd\n",
    "\n",
    "# 可視化モジュール\n",
    "import matplotlib.pyplot as plt\n",
    "import matplotlib as mpl\n",
    "import seaborn as sns\n",
    "%matplotlib inline\n",
    "\n",
    "# 機械学習モジュール\n",
    "import sklearn\n",
    "\n",
    "# 小数第３まで表示\n",
    "%precision 3"
   ]
  },
  {
   "cell_type": "code",
   "execution_count": 8,
   "metadata": {},
   "outputs": [
    {
     "name": "stdout",
     "output_type": "stream",
     "text": [
      "train: LogisticRegression 0.9624413145539906\n",
      "test: LogisticRegression 0.9370629370629371\n",
      "Cross validation scores:[0.93  0.939 0.973 0.947 0.965]\n",
      "Cross validation scores(mean):0.9509041939207385\n"
     ]
    }
   ],
   "source": [
    "from sklearn.datasets import load_breast_cancer\n",
    "from sklearn.linear_model import LogisticRegression\n",
    "from sklearn.model_selection import cross_val_score\n",
    "from sklearn.model_selection import train_test_split\n",
    "\n",
    "cancer = load_breast_cancer()\n",
    "\n",
    "logistic_model = LogisticRegression()\n",
    "\n",
    "X_train, X_test, y_train, y_test = train_test_split(\n",
    "    cancer.data, cancer.target, stratify = cancer.target, random_state=0)\n",
    "logistic_model.fit(X_train,y_train)\n",
    "print(\"train:\",logistic_model.__class__.__name__ ,logistic_model.score(X_train,y_train))\n",
    "print(\"test:\",logistic_model.__class__.__name__ , logistic_model.score(X_test,y_test))\n",
    "\n",
    "scores = cross_val_score(logistic_model,cancer.data,cancer.target,cv=5)\n",
    "\n",
    "print(\"Cross validation scores:{}\".format(scores))\n",
    "print(\"Cross validation scores(mean):{}\".format(scores.mean()))"
   ]
  },
  {
   "cell_type": "code",
   "execution_count": null,
   "metadata": {},
   "outputs": [],
   "source": []
  }
 ],
 "metadata": {
  "kernelspec": {
   "display_name": "Python 3",
   "language": "python",
   "name": "python3"
  },
  "language_info": {
   "codemirror_mode": {
    "name": "ipython",
    "version": 3
   },
   "file_extension": ".py",
   "mimetype": "text/x-python",
   "name": "python",
   "nbconvert_exporter": "python",
   "pygments_lexer": "ipython3",
   "version": "3.6.5"
  }
 },
 "nbformat": 4,
 "nbformat_minor": 2
}
